{
 "cells": [
  {
   "cell_type": "markdown",
   "id": "379857d9",
   "metadata": {},
   "source": [
    "# Homework_3_2024"
   ]
  },
  {
   "cell_type": "markdown",
   "id": "1391a7f5",
   "metadata": {},
   "source": [
    "### Import libraries and data"
   ]
  },
  {
   "cell_type": "code",
   "execution_count": 1,
   "id": "157d1049",
   "metadata": {},
   "outputs": [],
   "source": [
    "import numpy as np\n",
    "import pandas as pd\n",
    "import statistics\n",
    "import seaborn as sns\n",
    "import matplotlib.pyplot as plt\n",
    "import numpy as np\n",
    "import pandas as pd\n",
    "from sklearn.cluster import KMeans"
   ]
  },
  {
   "cell_type": "code",
   "execution_count": 2,
   "id": "5ac13bdb",
   "metadata": {
    "scrolled": true
   },
   "outputs": [],
   "source": [
    "data_Q1 = pd.read_csv('data_Q1.csv')\n",
    "data_Q2 = pd.read_csv('data_Q2.csv')"
   ]
  },
  {
   "cell_type": "code",
   "execution_count": 3,
   "id": "1134e1b6",
   "metadata": {
    "scrolled": true
   },
   "outputs": [
    {
     "data": {
      "text/html": [
       "<div>\n",
       "<style scoped>\n",
       "    .dataframe tbody tr th:only-of-type {\n",
       "        vertical-align: middle;\n",
       "    }\n",
       "\n",
       "    .dataframe tbody tr th {\n",
       "        vertical-align: top;\n",
       "    }\n",
       "\n",
       "    .dataframe thead th {\n",
       "        text-align: right;\n",
       "    }\n",
       "</style>\n",
       "<table border=\"1\" class=\"dataframe\">\n",
       "  <thead>\n",
       "    <tr style=\"text-align: right;\">\n",
       "      <th></th>\n",
       "      <th>CustomerID</th>\n",
       "      <th>Gender</th>\n",
       "      <th>Age</th>\n",
       "      <th>Annual Income (k$)</th>\n",
       "      <th>Spending Score (1-100)</th>\n",
       "    </tr>\n",
       "  </thead>\n",
       "  <tbody>\n",
       "    <tr>\n",
       "      <th>0</th>\n",
       "      <td>1</td>\n",
       "      <td>Male</td>\n",
       "      <td>19</td>\n",
       "      <td>15</td>\n",
       "      <td>39</td>\n",
       "    </tr>\n",
       "    <tr>\n",
       "      <th>1</th>\n",
       "      <td>2</td>\n",
       "      <td>Male</td>\n",
       "      <td>21</td>\n",
       "      <td>15</td>\n",
       "      <td>81</td>\n",
       "    </tr>\n",
       "    <tr>\n",
       "      <th>2</th>\n",
       "      <td>3</td>\n",
       "      <td>Female</td>\n",
       "      <td>20</td>\n",
       "      <td>16</td>\n",
       "      <td>6</td>\n",
       "    </tr>\n",
       "    <tr>\n",
       "      <th>3</th>\n",
       "      <td>4</td>\n",
       "      <td>Female</td>\n",
       "      <td>23</td>\n",
       "      <td>16</td>\n",
       "      <td>77</td>\n",
       "    </tr>\n",
       "    <tr>\n",
       "      <th>4</th>\n",
       "      <td>5</td>\n",
       "      <td>Female</td>\n",
       "      <td>31</td>\n",
       "      <td>17</td>\n",
       "      <td>40</td>\n",
       "    </tr>\n",
       "    <tr>\n",
       "      <th>...</th>\n",
       "      <td>...</td>\n",
       "      <td>...</td>\n",
       "      <td>...</td>\n",
       "      <td>...</td>\n",
       "      <td>...</td>\n",
       "    </tr>\n",
       "    <tr>\n",
       "      <th>195</th>\n",
       "      <td>196</td>\n",
       "      <td>Female</td>\n",
       "      <td>35</td>\n",
       "      <td>120</td>\n",
       "      <td>79</td>\n",
       "    </tr>\n",
       "    <tr>\n",
       "      <th>196</th>\n",
       "      <td>197</td>\n",
       "      <td>Female</td>\n",
       "      <td>45</td>\n",
       "      <td>126</td>\n",
       "      <td>28</td>\n",
       "    </tr>\n",
       "    <tr>\n",
       "      <th>197</th>\n",
       "      <td>198</td>\n",
       "      <td>Male</td>\n",
       "      <td>32</td>\n",
       "      <td>126</td>\n",
       "      <td>74</td>\n",
       "    </tr>\n",
       "    <tr>\n",
       "      <th>198</th>\n",
       "      <td>199</td>\n",
       "      <td>Male</td>\n",
       "      <td>32</td>\n",
       "      <td>137</td>\n",
       "      <td>18</td>\n",
       "    </tr>\n",
       "    <tr>\n",
       "      <th>199</th>\n",
       "      <td>200</td>\n",
       "      <td>Male</td>\n",
       "      <td>30</td>\n",
       "      <td>137</td>\n",
       "      <td>83</td>\n",
       "    </tr>\n",
       "  </tbody>\n",
       "</table>\n",
       "<p>200 rows × 5 columns</p>\n",
       "</div>"
      ],
      "text/plain": [
       "     CustomerID  Gender  Age  Annual Income (k$)  Spending Score (1-100)\n",
       "0             1    Male   19                  15                      39\n",
       "1             2    Male   21                  15                      81\n",
       "2             3  Female   20                  16                       6\n",
       "3             4  Female   23                  16                      77\n",
       "4             5  Female   31                  17                      40\n",
       "..          ...     ...  ...                 ...                     ...\n",
       "195         196  Female   35                 120                      79\n",
       "196         197  Female   45                 126                      28\n",
       "197         198    Male   32                 126                      74\n",
       "198         199    Male   32                 137                      18\n",
       "199         200    Male   30                 137                      83\n",
       "\n",
       "[200 rows x 5 columns]"
      ]
     },
     "execution_count": 3,
     "metadata": {},
     "output_type": "execute_result"
    }
   ],
   "source": [
    "data_Q1.drop_duplicates(inplace=True)\n",
    "data_Q1.dropna(inplace=True)\n",
    "data_Q1"
   ]
  },
  {
   "cell_type": "markdown",
   "id": "3b1fa580",
   "metadata": {},
   "source": [
    "**Q1-1. Do an initial exploratory of the data (using the describe method) and answer the following questions:**\n",
    "\n",
    "a. What is the mean of the annual income?\n",
    "\n",
    "b. What is the max value of the Age?\n",
    "\n",
    "c. What is the range of Spending Score?"
   ]
  },
  {
   "cell_type": "code",
   "execution_count": 1,
   "id": "c821f700",
   "metadata": {
    "scrolled": true
   },
   "outputs": [],
   "source": [
    "# Insert your code here for Q1-1."
   ]
  },
  {
   "cell_type": "markdown",
   "id": "1bdc1bdd",
   "metadata": {},
   "source": [
    "**Q1-2. There are three dimensions (Age, Annual Income, Spending Score) that could be used in K-Means Clustering, select two of them and show all possible cases(in total 3).**\n",
    "\n",
    "a. Using plt.scatter to plot the data, based on the plot decide the appropriate K value by yourself.\n",
    "\n",
    "b. Perform a K-Means Clustering on data using \"Kmeans\". \n",
    "\n",
    "c. Print out the results by plotting the data colored by their labels and plot the cluster centers as determined by the K-Means estimator."
   ]
  },
  {
   "cell_type": "markdown",
   "id": "bc215323",
   "metadata": {},
   "source": [
    "**Scenario 1: Age, Annual Income**"
   ]
  },
  {
   "cell_type": "code",
   "execution_count": 2,
   "id": "33a67ce4",
   "metadata": {
    "scrolled": false
   },
   "outputs": [],
   "source": [
    "# Insert your code here for Q1-2 Scenario 1."
   ]
  },
  {
   "cell_type": "markdown",
   "id": "bf840995",
   "metadata": {},
   "source": [
    "**Scenario 2: Age, Spending Score**"
   ]
  },
  {
   "cell_type": "code",
   "execution_count": 3,
   "id": "6a57f0c8",
   "metadata": {
    "scrolled": false
   },
   "outputs": [],
   "source": [
    "# Insert your code here for Q1-2 Scenario 2."
   ]
  },
  {
   "cell_type": "markdown",
   "id": "1dfd193d",
   "metadata": {},
   "source": [
    "**Scenario 3: Annual Income, Spending Score**"
   ]
  },
  {
   "cell_type": "code",
   "execution_count": 4,
   "id": "b71a1eb1",
   "metadata": {},
   "outputs": [],
   "source": [
    "# Insert your code here for Q1-2 Scenario 3."
   ]
  },
  {
   "cell_type": "markdown",
   "id": "a60e42db",
   "metadata": {},
   "source": [
    "**Q2. Here is a dataset that can be clustered into different clusters. Try different K values(MAX 7) and finds out which K value is the best for this dataset.**"
   ]
  },
  {
   "cell_type": "code",
   "execution_count": 11,
   "id": "02cc2301",
   "metadata": {},
   "outputs": [
    {
     "data": {
      "text/html": [
       "<div>\n",
       "<style scoped>\n",
       "    .dataframe tbody tr th:only-of-type {\n",
       "        vertical-align: middle;\n",
       "    }\n",
       "\n",
       "    .dataframe tbody tr th {\n",
       "        vertical-align: top;\n",
       "    }\n",
       "\n",
       "    .dataframe thead th {\n",
       "        text-align: right;\n",
       "    }\n",
       "</style>\n",
       "<table border=\"1\" class=\"dataframe\">\n",
       "  <thead>\n",
       "    <tr style=\"text-align: right;\">\n",
       "      <th></th>\n",
       "      <th>0</th>\n",
       "      <th>1</th>\n",
       "    </tr>\n",
       "  </thead>\n",
       "  <tbody>\n",
       "    <tr>\n",
       "      <th>0</th>\n",
       "      <td>3.790576</td>\n",
       "      <td>-0.091328</td>\n",
       "    </tr>\n",
       "    <tr>\n",
       "      <th>1</th>\n",
       "      <td>0.208590</td>\n",
       "      <td>0.428525</td>\n",
       "    </tr>\n",
       "    <tr>\n",
       "      <th>2</th>\n",
       "      <td>-2.133866</td>\n",
       "      <td>0.114616</td>\n",
       "    </tr>\n",
       "    <tr>\n",
       "      <th>3</th>\n",
       "      <td>-2.369302</td>\n",
       "      <td>0.146900</td>\n",
       "    </tr>\n",
       "    <tr>\n",
       "      <th>4</th>\n",
       "      <td>1.068705</td>\n",
       "      <td>-0.009686</td>\n",
       "    </tr>\n",
       "    <tr>\n",
       "      <th>...</th>\n",
       "      <td>...</td>\n",
       "      <td>...</td>\n",
       "    </tr>\n",
       "    <tr>\n",
       "      <th>395</th>\n",
       "      <td>1.171324</td>\n",
       "      <td>1.016103</td>\n",
       "    </tr>\n",
       "    <tr>\n",
       "      <th>396</th>\n",
       "      <td>4.706794</td>\n",
       "      <td>0.895397</td>\n",
       "    </tr>\n",
       "    <tr>\n",
       "      <th>397</th>\n",
       "      <td>-2.373985</td>\n",
       "      <td>0.120901</td>\n",
       "    </tr>\n",
       "    <tr>\n",
       "      <th>398</th>\n",
       "      <td>-2.187685</td>\n",
       "      <td>1.201192</td>\n",
       "    </tr>\n",
       "    <tr>\n",
       "      <th>399</th>\n",
       "      <td>4.287744</td>\n",
       "      <td>0.286131</td>\n",
       "    </tr>\n",
       "  </tbody>\n",
       "</table>\n",
       "<p>400 rows × 2 columns</p>\n",
       "</div>"
      ],
      "text/plain": [
       "            0         1\n",
       "0    3.790576 -0.091328\n",
       "1    0.208590  0.428525\n",
       "2   -2.133866  0.114616\n",
       "3   -2.369302  0.146900\n",
       "4    1.068705 -0.009686\n",
       "..        ...       ...\n",
       "395  1.171324  1.016103\n",
       "396  4.706794  0.895397\n",
       "397 -2.373985  0.120901\n",
       "398 -2.187685  1.201192\n",
       "399  4.287744  0.286131\n",
       "\n",
       "[400 rows x 2 columns]"
      ]
     },
     "execution_count": 11,
     "metadata": {},
     "output_type": "execute_result"
    }
   ],
   "source": [
    "data_Q2"
   ]
  },
  {
   "cell_type": "code",
   "execution_count": 12,
   "id": "f3b23484",
   "metadata": {},
   "outputs": [
    {
     "data": {
      "text/plain": [
       "<matplotlib.collections.PathCollection at 0x19f9792aee0>"
      ]
     },
     "execution_count": 12,
     "metadata": {},
     "output_type": "execute_result"
    },
    {
     "data": {
      "image/png": "[encoded data removed]",
      "text/plain": [
       "<Figure size 640x480 with 1 Axes>"
      ]
     },
     "metadata": {},
     "output_type": "display_data"
    }
   ],
   "source": [
    "X2 = data_Q2.values\n",
    "plt.scatter(X2[:,0], X2[:,1],s=50)"
   ]
  },
  {
   "cell_type": "code",
   "execution_count": 13,
   "id": "f32819a3",
   "metadata": {},
   "outputs": [],
   "source": [
    "# Insert your code here for Q2."
   ]
  },
  {
   "cell_type": "code",
   "execution_count": null,
   "id": "b02a52d6",
   "metadata": {},
   "outputs": [],
   "source": []
  }
 ],
 "metadata": {
  "kernelspec": {
   "display_name": "Python 3 (ipykernel)",
   "language": "python",
   "name": "python3"
  },
  "language_info": {
   "codemirror_mode": {
    "name": "ipython",
    "version": 3
   },
   "file_extension": ".py",
   "mimetype": "text/x-python",
   "name": "python",
   "nbconvert_exporter": "python",
   "pygments_lexer": "ipython3",
   "version": "3.9.18"
  }
 },
 "nbformat": 4,
 "nbformat_minor": 5
}
