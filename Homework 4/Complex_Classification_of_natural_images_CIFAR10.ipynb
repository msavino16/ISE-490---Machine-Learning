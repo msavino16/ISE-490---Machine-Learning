{
  "nbformat": 4,
  "nbformat_minor": 0,
  "metadata": {
    "colab": {
      "provenance": []
    },
    "kernelspec": {
      "name": "python3",
      "display_name": "Python 3"
    },
    "language_info": {
      "name": "python"
    }
  },
  "cells": [
    {
      "cell_type": "code",
      "execution_count": 1,
      "metadata": {
        "id": "DoZCj04PKP8W"
      },
      "outputs": [],
      "source": [
        "import numpy as np\n",
        "import matplotlib.pyplot as plt\n",
        "import keras"
      ]
    },
    {
      "cell_type": "code",
      "source": [],
      "metadata": {
        "id": "dqR0T-9JKeCj"
      },
      "execution_count": 1,
      "outputs": []
    },
    {
      "cell_type": "markdown",
      "source": [
        "## Import dataset"
      ],
      "metadata": {
        "id": "oiFMp-E1LqiA"
      }
    },
    {
      "cell_type": "code",
      "source": [
        "(x_train, y_train), (x_test, y_test) = keras.datasets.cifar10.load_data()"
      ],
      "metadata": {
        "id": "PB7PCBoCKhu-",
        "colab": {
          "base_uri": "https://localhost:8080/"
        },
        "outputId": "ed65fa71-7e57-4574-e0b4-046837407011"
      },
      "execution_count": 2,
      "outputs": [
        {
          "output_type": "stream",
          "name": "stdout",
          "text": [
            "Downloading data from https://www.cs.toronto.edu/~kriz/cifar-10-python.tar.gz\n",
            "170498071/170498071 [==============================] - 3s 0us/step\n"
          ]
        }
      ]
    },
    {
      "cell_type": "code",
      "source": [
        "x_train.shape"
      ],
      "metadata": {
        "colab": {
          "base_uri": "https://localhost:8080/"
        },
        "id": "xu6G92LvKxh1",
        "outputId": "b76f7827-d25e-4c6c-d723-860a4a0cfe97"
      },
      "execution_count": 3,
      "outputs": [
        {
          "output_type": "execute_result",
          "data": {
            "text/plain": [
              "(50000, 32, 32, 3)"
            ]
          },
          "metadata": {},
          "execution_count": 3
        }
      ]
    },
    {
      "cell_type": "code",
      "source": [
        "x_test.shape"
      ],
      "metadata": {
        "colab": {
          "base_uri": "https://localhost:8080/"
        },
        "id": "XNCF7fWaK0MH",
        "outputId": "ae444a8f-a9d6-403a-b4df-7660dbd524dd"
      },
      "execution_count": 4,
      "outputs": [
        {
          "output_type": "execute_result",
          "data": {
            "text/plain": [
              "(10000, 32, 32, 3)"
            ]
          },
          "metadata": {},
          "execution_count": 4
        }
      ]
    },
    {
      "cell_type": "code",
      "source": [
        "y_test.shape"
      ],
      "metadata": {
        "colab": {
          "base_uri": "https://localhost:8080/"
        },
        "id": "jcxPGYmLK3Cx",
        "outputId": "366d2bda-54b9-4cc9-f11a-96ffcdf544fd"
      },
      "execution_count": 5,
      "outputs": [
        {
          "output_type": "execute_result",
          "data": {
            "text/plain": [
              "(10000, 1)"
            ]
          },
          "metadata": {},
          "execution_count": 5
        }
      ]
    },
    {
      "cell_type": "code",
      "source": [
        "y_train.shape"
      ],
      "metadata": {
        "colab": {
          "base_uri": "https://localhost:8080/"
        },
        "id": "3MUteyBRLePl",
        "outputId": "85eb2fdb-857c-4e39-d27e-b3d5b8ed2695"
      },
      "execution_count": 6,
      "outputs": [
        {
          "output_type": "execute_result",
          "data": {
            "text/plain": [
              "(50000, 1)"
            ]
          },
          "metadata": {},
          "execution_count": 6
        }
      ]
    },
    {
      "cell_type": "code",
      "source": [
        "np.unique(y_train)"
      ],
      "metadata": {
        "colab": {
          "base_uri": "https://localhost:8080/"
        },
        "id": "4T5PzUx5LgHo",
        "outputId": "ecefd6f3-71d6-49e5-fbf4-da762299fa88"
      },
      "execution_count": 7,
      "outputs": [
        {
          "output_type": "execute_result",
          "data": {
            "text/plain": [
              "array([0, 1, 2, 3, 4, 5, 6, 7, 8, 9], dtype=uint8)"
            ]
          },
          "metadata": {},
          "execution_count": 7
        }
      ]
    },
    {
      "cell_type": "code",
      "source": [
        "labels = {0: 'airplane',\n",
        "          1: 'automobile',\n",
        "          2: 'bird',\n",
        "          3: 'cat',\n",
        "          4: 'deer',\n",
        "          5: 'dog',\n",
        "          6: 'frog',\n",
        "          7: 'horse',\n",
        "          8: 'ship',\n",
        "          9: 'truck'}\n"
      ],
      "metadata": {
        "id": "3inWp684Li_-"
      },
      "execution_count": 8,
      "outputs": []
    },
    {
      "cell_type": "code",
      "source": [
        "y_train[0]"
      ],
      "metadata": {
        "colab": {
          "base_uri": "https://localhost:8080/"
        },
        "id": "dmFBkJWlPexU",
        "outputId": "6eaa78ee-5321-4e0c-aaff-c2533554d0a3"
      },
      "execution_count": 9,
      "outputs": [
        {
          "output_type": "execute_result",
          "data": {
            "text/plain": [
              "array([6], dtype=uint8)"
            ]
          },
          "metadata": {},
          "execution_count": 9
        }
      ]
    },
    {
      "cell_type": "code",
      "source": [
        "fig, axes = plt.subplots(2,5, figsize=(10,6))\n",
        "\n",
        "for row in range(2):\n",
        "    for col in range(5):\n",
        "        axes[row,col].imshow(x_train[col+row*5])\n",
        "        axes[row,col].set_title(labels[y_train[col+row*5][0]])\n"
      ],
      "metadata": {
        "colab": {
          "base_uri": "https://localhost:8080/",
          "height": 468
        },
        "id": "zW9zIIN4MDYx",
        "outputId": "04a6c4a3-47f3-454c-df85-28905e6c2de1"
      },
      "execution_count": 10,
      "outputs": [
        {
          "output_type": "display_data",
          "data": {
            "text/plain": [
              "<Figure size 1000x600 with 10 Axes>"
            ],
            "image/png": "[encoded data removed]"
          },
          "metadata": {}
        }
      ]
    },
    {
      "cell_type": "code",
      "source": [
        "x_train = x_train.reshape(x_train.shape[0], -1)/255.0\n",
        "x_test = x_test.reshape(x_test.shape[0],-1)/255.0\n",
        "y_train = keras.utils.to_categorical(y_train)\n",
        "y_test = keras.utils.to_categorical(y_test)\n",
        "print(x_train.shape)\n",
        "print(x_test.shape)"
      ],
      "metadata": {
        "id": "mWPQ7duHMEM7",
        "colab": {
          "base_uri": "https://localhost:8080/"
        },
        "outputId": "cae73dca-74fd-48ae-9cc8-5e0d9b138f8e"
      },
      "execution_count": 11,
      "outputs": [
        {
          "output_type": "stream",
          "name": "stdout",
          "text": [
            "(50000, 3072)\n",
            "(10000, 3072)\n"
          ]
        }
      ]
    },
    {
      "cell_type": "code",
      "source": [
        "input_dim = x_train.shape[1]"
      ],
      "metadata": {
        "id": "NLQaLZNNRo0G"
      },
      "execution_count": 12,
      "outputs": []
    },
    {
      "cell_type": "code",
      "source": [
        "print(input_dim)"
      ],
      "metadata": {
        "colab": {
          "base_uri": "https://localhost:8080/"
        },
        "id": "AlUziwFtR3cU",
        "outputId": "57faddb0-4762-4dae-ed4b-a46fc50609a6"
      },
      "execution_count": 13,
      "outputs": [
        {
          "output_type": "stream",
          "name": "stdout",
          "text": [
            "3072\n"
          ]
        }
      ]
    },
    {
      "cell_type": "code",
      "source": [],
      "metadata": {
        "id": "lFxctR2cR4lz"
      },
      "execution_count": 13,
      "outputs": []
    },
    {
      "cell_type": "markdown",
      "source": [
        "## A simple neural network"
      ],
      "metadata": {
        "id": "eAx1tFPrR-ZQ"
      }
    },
    {
      "cell_type": "code",
      "source": [
        "from keras.models import Sequential\n",
        "from keras.layers import Dense"
      ],
      "metadata": {
        "id": "WKx8LAe1SBIU"
      },
      "execution_count": 14,
      "outputs": []
    },
    {
      "cell_type": "code",
      "source": [
        "model = Sequential()\n",
        "model.add(Dense(100,input_dim=input_dim, activation='relu'))\n",
        "model.add(Dense(100, activation='relu'))\n",
        "model.add(Dense(50, activation='relu'))\n",
        "model.add(Dense(10, activation='softmax'))\n"
      ],
      "metadata": {
        "id": "DpJfAeHZSH0H"
      },
      "execution_count": 15,
      "outputs": []
    },
    {
      "cell_type": "code",
      "source": [
        "model.compile(loss='categorical_crossentropy', optimizer='adam', metrics=['accuracy'])"
      ],
      "metadata": {
        "id": "fFjmdf9lSvJA"
      },
      "execution_count": 16,
      "outputs": []
    },
    {
      "cell_type": "code",
      "source": [
        "from numpy.random import seed\n",
        "seed(1)"
      ],
      "metadata": {
        "id": "jSkArD2JS4Dj"
      },
      "execution_count": 17,
      "outputs": []
    },
    {
      "cell_type": "code",
      "source": [
        "model.fit(x_train, y_train, epochs=10, validation_split=0.1)"
      ],
      "metadata": {
        "colab": {
          "base_uri": "https://localhost:8080/"
        },
        "id": "k0ciRkloS7P0",
        "outputId": "85b30911-ff77-4705-c391-293d0e3f9acf"
      },
      "execution_count": 18,
      "outputs": [
        {
          "output_type": "stream",
          "name": "stdout",
          "text": [
            "Epoch 1/10\n",
            "1407/1407 [==============================] - 13s 8ms/step - loss: 1.8978 - accuracy: 0.3093 - val_loss: 1.8356 - val_accuracy: 0.3274\n",
            "Epoch 2/10\n",
            "1407/1407 [==============================] - 11s 8ms/step - loss: 1.7097 - accuracy: 0.3867 - val_loss: 1.6427 - val_accuracy: 0.4120\n",
            "Epoch 3/10\n",
            "1407/1407 [==============================] - 14s 10ms/step - loss: 1.6268 - accuracy: 0.4166 - val_loss: 1.6744 - val_accuracy: 0.3832\n",
            "Epoch 4/10\n",
            "1407/1407 [==============================] - 10s 7ms/step - loss: 1.5852 - accuracy: 0.4310 - val_loss: 1.6143 - val_accuracy: 0.4244\n",
            "Epoch 5/10\n",
            "1407/1407 [==============================] - 13s 9ms/step - loss: 1.5442 - accuracy: 0.4480 - val_loss: 1.5624 - val_accuracy: 0.4392\n",
            "Epoch 6/10\n",
            "1407/1407 [==============================] - 10s 7ms/step - loss: 1.5171 - accuracy: 0.4563 - val_loss: 1.5489 - val_accuracy: 0.4472\n",
            "Epoch 7/10\n",
            "1407/1407 [==============================] - 10s 7ms/step - loss: 1.4909 - accuracy: 0.4671 - val_loss: 1.5541 - val_accuracy: 0.4394\n",
            "Epoch 8/10\n",
            "1407/1407 [==============================] - 12s 8ms/step - loss: 1.4795 - accuracy: 0.4704 - val_loss: 1.4995 - val_accuracy: 0.4636\n",
            "Epoch 9/10\n",
            "1407/1407 [==============================] - 11s 8ms/step - loss: 1.4562 - accuracy: 0.4772 - val_loss: 1.5638 - val_accuracy: 0.4482\n",
            "Epoch 10/10\n",
            "1407/1407 [==============================] - 10s 7ms/step - loss: 1.4425 - accuracy: 0.4846 - val_loss: 1.4854 - val_accuracy: 0.4776\n"
          ]
        },
        {
          "output_type": "execute_result",
          "data": {
            "text/plain": [
              "<keras.src.callbacks.History at 0x7a9f98445720>"
            ]
          },
          "metadata": {},
          "execution_count": 18
        }
      ]
    },
    {
      "cell_type": "code",
      "source": [
        "_, test_acc = model.evaluate(x_test,y_test)\n",
        "print(test_acc)"
      ],
      "metadata": {
        "colab": {
          "base_uri": "https://localhost:8080/"
        },
        "id": "zYOElmwpTEXd",
        "outputId": "de00c96b-842c-4176-9076-47b8828bb98e"
      },
      "execution_count": 19,
      "outputs": [
        {
          "output_type": "stream",
          "name": "stdout",
          "text": [
            "313/313 [==============================] - 1s 4ms/step - loss: 1.4726 - accuracy: 0.4751\n",
            "0.47510001063346863\n"
          ]
        }
      ]
    },
    {
      "cell_type": "code",
      "source": [],
      "metadata": {
        "id": "pjoei4LdTlkQ"
      },
      "execution_count": 19,
      "outputs": []
    },
    {
      "cell_type": "markdown",
      "source": [
        "## convolutional neural networks"
      ],
      "metadata": {
        "id": "vOWwZ-BFUvTk"
      }
    },
    {
      "cell_type": "code",
      "source": [
        "from keras.layers import Conv2D, MaxPooling2D, Flatten, BatchNormalization"
      ],
      "metadata": {
        "id": "bfb5WyzjUxkv"
      },
      "execution_count": 37,
      "outputs": []
    },
    {
      "cell_type": "code",
      "source": [
        "(x_train, y_train), (x_test, y_test) = keras.datasets.cifar10.load_data()"
      ],
      "metadata": {
        "id": "hyWEcFJ9U6gU"
      },
      "execution_count": 28,
      "outputs": []
    },
    {
      "cell_type": "code",
      "source": [
        "x_train = x_train/255.0\n",
        "x_test = x_test/255.0\n",
        "print(y_train)\n",
        "y_train = keras.utils.to_categorical(y_train)\n",
        "y_test = keras.utils.to_categorical(y_test)\n",
        "print(x_train.shape)\n",
        "print(x_test.shape)\n",
        "print(y_train)"
      ],
      "metadata": {
        "colab": {
          "base_uri": "https://localhost:8080/"
        },
        "id": "pT_Bw32pU_E2",
        "outputId": "819a0125-9a53-41ca-f686-16450f565b78"
      },
      "execution_count": 29,
      "outputs": [
        {
          "output_type": "stream",
          "name": "stdout",
          "text": [
            "[[6]\n",
            " [9]\n",
            " [9]\n",
            " ...\n",
            " [9]\n",
            " [1]\n",
            " [1]]\n",
            "(50000, 32, 32, 3)\n",
            "(10000, 32, 32, 3)\n",
            "[[0. 0. 0. ... 0. 0. 0.]\n",
            " [0. 0. 0. ... 0. 0. 1.]\n",
            " [0. 0. 0. ... 0. 0. 1.]\n",
            " ...\n",
            " [0. 0. 0. ... 0. 0. 1.]\n",
            " [0. 1. 0. ... 0. 0. 0.]\n",
            " [0. 1. 0. ... 0. 0. 0.]]\n"
          ]
        }
      ]
    },
    {
      "cell_type": "code",
      "source": [
        "x_train.shape"
      ],
      "metadata": {
        "colab": {
          "base_uri": "https://localhost:8080/"
        },
        "id": "uybqf6bgVPwS",
        "outputId": "1f8966f4-bfcb-4d06-a514-55f14d9dce26"
      },
      "execution_count": 30,
      "outputs": [
        {
          "output_type": "execute_result",
          "data": {
            "text/plain": [
              "(50000, 32, 32, 3)"
            ]
          },
          "metadata": {},
          "execution_count": 30
        }
      ]
    },
    {
      "cell_type": "code",
      "source": [
        "model2 = Sequential()\n",
        "model2.add(Conv2D(filters=64, kernel_size=3, padding='same', activation='relu'))\n",
        "model2.add(MaxPooling2D(pool_size=2))\n",
        "model2.add(Conv2D(filters=128, kernel_size=3, padding='same', activation='relu'))\n",
        "model2.add(MaxPooling2D(pool_size=2))\n",
        "model2.add(Conv2D(filters=256, kernel_size=3, padding='same', activation='relu'))\n",
        "model2.add(MaxPooling2D(pool_size=2))\n",
        "model2.add(Flatten())\n",
        "model2.add(Dense(256, activation='relu'))\n",
        "model2.add(BatchNormalization())\n",
        "model2.add(Dense(128, activation='relu'))\n",
        "model2.add(BatchNormalization())\n",
        "model2.add(Dense(10, activation='softmax'))"
      ],
      "metadata": {
        "id": "wRvWkHOpV9u-"
      },
      "execution_count": 42,
      "outputs": []
    },
    {
      "cell_type": "code",
      "source": [
        "\n",
        "model2.compile(loss='categorical_crossentropy', optimizer='adam', metrics=['accuracy'])\n",
        "\n"
      ],
      "metadata": {
        "id": "Y3O9tm4qV_VT"
      },
      "execution_count": 44,
      "outputs": []
    },
    {
      "cell_type": "code",
      "source": [
        "model2.fit(x_train,y_train,epochs=20, validation_split=0.1)"
      ],
      "metadata": {
        "colab": {
          "base_uri": "https://localhost:8080/"
        },
        "id": "YRymbEL6XZDP",
        "outputId": "e1e52477-596b-40d7-9dbc-da0f90c989ee"
      },
      "execution_count": 45,
      "outputs": [
        {
          "output_type": "stream",
          "name": "stdout",
          "text": [
            "Epoch 1/20\n",
            "1407/1407 [==============================] - 331s 234ms/step - loss: 1.3457 - accuracy: 0.5197 - val_loss: 2.0279 - val_accuracy: 0.3816\n",
            "Epoch 2/20\n",
            "1407/1407 [==============================] - 329s 234ms/step - loss: 0.9600 - accuracy: 0.6639 - val_loss: 1.7630 - val_accuracy: 0.5090\n",
            "Epoch 3/20\n",
            "1407/1407 [==============================] - 325s 231ms/step - loss: 0.8051 - accuracy: 0.7160 - val_loss: 1.2241 - val_accuracy: 0.6140\n",
            "Epoch 4/20\n",
            "1407/1407 [==============================] - 328s 233ms/step - loss: 0.6872 - accuracy: 0.7606 - val_loss: 0.7718 - val_accuracy: 0.7336\n",
            "Epoch 5/20\n",
            "1407/1407 [==============================] - 325s 231ms/step - loss: 0.6030 - accuracy: 0.7898 - val_loss: 0.6824 - val_accuracy: 0.7676\n",
            "Epoch 6/20\n",
            "1407/1407 [==============================] - 326s 232ms/step - loss: 0.5125 - accuracy: 0.8197 - val_loss: 0.8082 - val_accuracy: 0.7358\n",
            "Epoch 7/20\n",
            "1407/1407 [==============================] - 326s 232ms/step - loss: 0.4416 - accuracy: 0.8451 - val_loss: 0.9265 - val_accuracy: 0.7196\n",
            "Epoch 8/20\n",
            "1407/1407 [==============================] - 326s 232ms/step - loss: 0.3823 - accuracy: 0.8666 - val_loss: 0.7683 - val_accuracy: 0.7582\n",
            "Epoch 9/20\n",
            "1407/1407 [==============================] - 325s 231ms/step - loss: 0.3216 - accuracy: 0.8862 - val_loss: 0.7684 - val_accuracy: 0.7660\n",
            "Epoch 10/20\n",
            "1407/1407 [==============================] - 322s 229ms/step - loss: 0.2757 - accuracy: 0.9036 - val_loss: 0.9672 - val_accuracy: 0.7432\n",
            "Epoch 11/20\n",
            "1407/1407 [==============================] - 323s 230ms/step - loss: 0.2317 - accuracy: 0.9183 - val_loss: 0.9237 - val_accuracy: 0.7568\n",
            "Epoch 12/20\n",
            "1407/1407 [==============================] - 323s 230ms/step - loss: 0.2046 - accuracy: 0.9277 - val_loss: 1.0665 - val_accuracy: 0.7428\n",
            "Epoch 13/20\n",
            "1407/1407 [==============================] - 325s 231ms/step - loss: 0.1871 - accuracy: 0.9348 - val_loss: 0.9081 - val_accuracy: 0.7688\n",
            "Epoch 14/20\n",
            "1407/1407 [==============================] - 322s 229ms/step - loss: 0.1561 - accuracy: 0.9459 - val_loss: 1.0562 - val_accuracy: 0.7520\n",
            "Epoch 15/20\n",
            "1407/1407 [==============================] - 324s 230ms/step - loss: 0.1536 - accuracy: 0.9467 - val_loss: 0.9828 - val_accuracy: 0.7706\n",
            "Epoch 16/20\n",
            "1407/1407 [==============================] - 325s 231ms/step - loss: 0.1354 - accuracy: 0.9519 - val_loss: 1.3916 - val_accuracy: 0.7102\n",
            "Epoch 17/20\n",
            "1407/1407 [==============================] - 323s 230ms/step - loss: 0.1238 - accuracy: 0.9552 - val_loss: 1.2345 - val_accuracy: 0.7450\n",
            "Epoch 18/20\n",
            "1407/1407 [==============================] - 325s 231ms/step - loss: 0.1218 - accuracy: 0.9568 - val_loss: 1.0980 - val_accuracy: 0.7730\n",
            "Epoch 19/20\n",
            "1407/1407 [==============================] - 324s 231ms/step - loss: 0.1091 - accuracy: 0.9618 - val_loss: 1.2309 - val_accuracy: 0.7526\n",
            "Epoch 20/20\n",
            "1407/1407 [==============================] - 324s 230ms/step - loss: 0.0997 - accuracy: 0.9649 - val_loss: 1.1698 - val_accuracy: 0.7720\n"
          ]
        },
        {
          "output_type": "execute_result",
          "data": {
            "text/plain": [
              "<keras.src.callbacks.History at 0x7a9f7083a320>"
            ]
          },
          "metadata": {},
          "execution_count": 45
        }
      ]
    },
    {
      "cell_type": "code",
      "source": [
        "_, test_acc = model2.evaluate(x_test,y_test)\n",
        "print(test_acc)"
      ],
      "metadata": {
        "id": "O2OmdXD2Xo8A",
        "colab": {
          "base_uri": "https://localhost:8080/"
        },
        "outputId": "5788b1f0-09ba-49ce-979b-7b5598a902b5"
      },
      "execution_count": 46,
      "outputs": [
        {
          "output_type": "stream",
          "name": "stdout",
          "text": [
            "313/313 [==============================] - 24s 76ms/step - loss: 1.1819 - accuracy: 0.7553\n",
            "0.755299985408783\n"
          ]
        }
      ]
    }
  ]
}